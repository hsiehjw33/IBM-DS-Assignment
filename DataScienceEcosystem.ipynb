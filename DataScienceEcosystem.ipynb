{
 "cells": [
  {
   "cell_type": "markdown",
   "id": "244a2026-ce9c-4943-9c6a-edf61af0a4d3",
   "metadata": {},
   "source": [
    "# Data Science Tools and Ecosystem"
   ]
  },
  {
   "cell_type": "markdown",
   "id": "282facd7-2ae2-4a65-99f0-a674efcfaceb",
   "metadata": {},
   "source": [
    "##### In this notebook, Data Science Tools and Ecosystem are summarized."
   ]
  },
  {
   "cell_type": "markdown",
   "id": "52211bdc-5a3a-439b-b2e1-317c117cb250",
   "metadata": {},
   "source": [
    "#### Objectives:\n",
    "\n",
    "Some of the popular languages that Data Scientists use are:\n",
    "+ <font color=\"Blue\">R</font>\n",
    "+ <font color=\"red\">Python</font>\n",
    "+ <font color=\"Green\">SQL</font>"
   ]
  },
  {
   "cell_type": "markdown",
   "id": "9d103651-695d-4ce0-901e-675e70260ee7",
   "metadata": {},
   "source": [
    "Some of the popular languages that Data Scientists use are:\n",
    "\n",
    "1. **R**\n",
    "2. Python\n",
    "3. SQL"
   ]
  },
  {
   "cell_type": "markdown",
   "id": "fbf6dc7e-7996-4124-8159-5d06b1bfa193",
   "metadata": {},
   "source": [
    "Some of the commonly used libraries used by Data Scientists include:\n",
    "\n",
    "1. **Pandas (Python)**\n",
    "2. Numpy (Python)\n",
    "3. Matplotlib (Python)"
   ]
  },
  {
   "cell_type": "markdown",
   "id": "9fe50740-6bab-43d3-b5e1-3974f654fc01",
   "metadata": {},
   "source": [
    "Data Science Tools\n",
    "\n",
    "| <font color=\"Blue\">**TOOL**</font> |\n",
    "| :---: |\n",
    "| Jupyter Notebook |\n",
    "| RStudio |\n",
    "| MySQL |"
   ]
  },
  {
   "cell_type": "markdown",
   "id": "dad3aa2e-e192-40f3-9ee0-ee4d55f38953",
   "metadata": {},
   "source": [
    "### Below are a few examples of evaluating arithmetic expressions in Python"
   ]
  },
  {
   "cell_type": "markdown",
   "id": "1a65a7f4-cccf-4d3f-9f82-82dd777dd750",
   "metadata": {},
   "source": [
    "*This a simple arithmetic expression to mutiply then add integers*"
   ]
  },
  {
   "cell_type": "code",
   "execution_count": 1,
   "id": "85218c1f-12c7-4ff8-9d69-764afcbfcbd4",
   "metadata": {},
   "outputs": [
    {
     "name": "stdout",
     "output_type": "stream",
     "text": [
      "17\n"
     ]
    }
   ],
   "source": [
    "x = (3*4)+5\n",
    "print(x)"
   ]
  },
  {
   "cell_type": "markdown",
   "id": "f18964da-423e-46b7-8b28-83beccdf4d87",
   "metadata": {},
   "source": [
    "*This will convert 200 minutes to hours by diving by 60*"
   ]
  },
  {
   "cell_type": "code",
   "execution_count": 2,
   "id": "a1edd23d-14ff-4c15-ad02-ff6dedb6b29a",
   "metadata": {},
   "outputs": [
    {
     "name": "stdout",
     "output_type": "stream",
     "text": [
      "This will convert 200 minutes to 3 hours and 20 minutes by diving by 60\n"
     ]
    }
   ],
   "source": [
    "y = 200\n",
    "m = 60\n",
    "w = 200//60\n",
    "z = y - (m*w)\n",
    "print(\"This will convert\",y,\"minutes to\",w,\"hours and\",z,\"minutes by diving by\",m)"
   ]
  },
  {
   "cell_type": "markdown",
   "id": "1cde0a68-5056-4df6-9d1b-68b51aa4bddf",
   "metadata": {},
   "source": [
    "## Author\n",
    "Hsieh Jui Wen"
   ]
  },
  {
   "cell_type": "code",
   "execution_count": null,
   "id": "e8086087-d9bc-437e-a439-8a45e52b3ea1",
   "metadata": {},
   "outputs": [],
   "source": []
  }
 ],
 "metadata": {
  "kernelspec": {
   "display_name": "Python 3 (ipykernel)",
   "language": "python",
   "name": "python3"
  },
  "language_info": {
   "codemirror_mode": {
    "name": "ipython",
    "version": 3
   },
   "file_extension": ".py",
   "mimetype": "text/x-python",
   "name": "python",
   "nbconvert_exporter": "python",
   "pygments_lexer": "ipython3",
   "version": "3.11.9"
  }
 },
 "nbformat": 4,
 "nbformat_minor": 5
}
